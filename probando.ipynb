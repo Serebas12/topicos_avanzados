{
 "cells": [
  {
   "cell_type": "code",
   "execution_count": null,
   "id": "19e15ba9",
   "metadata": {},
   "outputs": [
    {
     "name": "stderr",
     "output_type": "stream",
     "text": [
      "/opt/conda/envs/topicos_env/lib/python3.10/site-packages/opensearchpy/connection/http_urllib3.py:214: UserWarning: Connecting to https://localhost:9200 using SSL with verify_certs=False is insecure.\n",
      "  warnings.warn(\n"
     ]
    }
   ],
   "source": [
    "from langchain.schema import Document\n",
    "from vertexai.language_models import TextEmbeddingModel\n",
    "from opensearchpy import OpenSearch\n",
    "from google.cloud import aiplatform\n",
    "\n",
    "def buscar_documentos_en_opensearch(pregunta: str, index_name=\"topicosindex\", top_k=3) -> list[Document]:\n",
    "\n",
    "    # Inicialización (puedes ponerla en tu setup global)\n",
    "    aiplatform.init(project=\"mestria-puj-s2\", location=\"us-central1\")\n",
    "    embedding_model = TextEmbeddingModel.from_pretrained(\"text-multilingual-embedding-002\")\n",
    "\n",
    "    client = OpenSearch(\n",
    "        hosts=[{\"host\": \"localhost\", \"port\": 9200}],\n",
    "        http_auth=(\"admin\", \"Nagato123!\"),\n",
    "        use_ssl=True,\n",
    "        verify_certs=False\n",
    "    )\n",
    "\n",
    "    # Embedding de la pregunta\n",
    "    embedding = embedding_model.get_embeddings([pregunta])[0].values\n",
    "\n",
    "    # Consulta KNN a OpenSearch\n",
    "    query = {\n",
    "        \"size\": top_k,\n",
    "        \"query\": {\n",
    "            \"knn\": {\n",
    "                \"embedding\": {\n",
    "                    \"vector\": embedding,\n",
    "                    \"k\": top_k\n",
    "                }\n",
    "            }\n",
    "        }\n",
    "    }\n",
    "\n",
    "    resultado = client.search(index=index_name, body=query)\n",
    "\n",
    "    # Convertir a lista de Document\n",
    "    documentos = []\n",
    "    for hit in resultado[\"hits\"][\"hits\"]:\n",
    "        doc = Document(\n",
    "            page_content=hit[\"_source\"][\"text\"],\n",
    "            metadata={\n",
    "                \"titulo\": hit[\"_source\"][\"metadata\"][\"title\"],\n",
    "                \"departamento\": hit[\"_source\"][\"metadata\"][\"keyword\"],\n",
    "                \"id_documento\": hit[\"_source\"][\"metadata\"][\"id_documento\"],\n",
    "                \"score\": hit[\"_score\"]\n",
    "            }\n",
    "        )\n",
    "        documentos.append(doc)\n",
    "\n",
    "    return documentos\n"
   ]
  },
  {
   "cell_type": "code",
   "execution_count": 7,
   "id": "695d5172",
   "metadata": {},
   "outputs": [
    {
     "name": "stderr",
     "output_type": "stream",
     "text": [
      "/opt/conda/envs/topicos_env/lib/python3.10/site-packages/urllib3/connectionpool.py:1097: InsecureRequestWarning: Unverified HTTPS request is being made to host 'localhost'. Adding certificate verification is strongly advised. See: https://urllib3.readthedocs.io/en/latest/advanced-usage.html#tls-warnings\n",
      "  warnings.warn(\n"
     ]
    },
    {
     "data": {
      "text/plain": [
       "[Document(metadata={'titulo': 'Dato curioso sobre Atlántico', 'departamento': 'Atlántico', 'id_documento': 4, 'score': 0.78385055}, page_content='En Barranquilla se celebra uno de los carnavales más importantes del mundo.'),\n",
       " Document(metadata={'titulo': 'Dato curioso sobre Bolívar', 'departamento': 'Bolívar', 'id_documento': 5, 'score': 0.59251076}, page_content='Cartagena, en Bolívar, fue uno de los puertos más importantes del imperio español en América.'),\n",
       " Document(metadata={'titulo': 'Dato curioso sobre Amazonas', 'departamento': 'Amazonas', 'id_documento': 1, 'score': 0.5869829}, page_content='El Amazonas colombiano alberga parte del mayor bosque tropical continuo del mundo.')]"
      ]
     },
     "execution_count": 7,
     "metadata": {},
     "output_type": "execute_result"
    }
   ],
   "source": [
    "buscar_documentos_en_opensearch(\"¿Dónde se celebra un carnaval famoso en Colombia?\")\n",
    "\n"
   ]
  },
  {
   "cell_type": "code",
   "execution_count": null,
   "id": "b5461579",
   "metadata": {},
   "outputs": [],
   "source": []
  },
  {
   "cell_type": "code",
   "execution_count": null,
   "id": "3a6e1169",
   "metadata": {},
   "outputs": [],
   "source": []
  },
  {
   "cell_type": "code",
   "execution_count": 4,
   "id": "8a2d5d7c",
   "metadata": {},
   "outputs": [
    {
     "name": "stderr",
     "output_type": "stream",
     "text": [
      "/opt/conda/envs/topicos_env/lib/python3.10/site-packages/opensearchpy/connection/http_urllib3.py:214: UserWarning: Connecting to https://localhost:9200 using SSL with verify_certs=False is insecure.\n",
      "  warnings.warn(\n",
      "/opt/conda/envs/topicos_env/lib/python3.10/site-packages/urllib3/connectionpool.py:1097: InsecureRequestWarning: Unverified HTTPS request is being made to host 'localhost'. Adding certificate verification is strongly advised. See: https://urllib3.readthedocs.io/en/latest/advanced-usage.html#tls-warnings\n",
      "  warnings.warn(\n"
     ]
    },
    {
     "name": "stdout",
     "output_type": "stream",
     "text": [
      "Según la información proporcionada, los documentos hablan sobre datos curiosos de departamentos de Colombia como Bolívar, Amazonas y Arauca.\n",
      "\n",
      "No se menciona la relación entre machine learning y los datos en este contexto.\n"
     ]
    }
   ],
   "source": [
    "from agent.invoker import IAInvoker\n",
    "from langchain.schema import HumanMessage, AIMessage\n",
    "\n",
    "# Historial acumulado por el frontend o por tu lógica de sesión\n",
    "chat_history = [\n",
    "    HumanMessage(content=\"¿Qué es el machine learning?\"),\n",
    "    AIMessage(content=\"Es una subárea de la inteligencia artificial que...\"),\n",
    "]\n",
    "\n",
    "invoker = IAInvoker(project_id=\"mestria-puj-s2\")\n",
    "\n",
    "# Paso siguiente de la conversación\n",
    "respuesta = invoker.run(\"¿Y qué relación tiene con los datos?\", chat_history)\n",
    "print(respuesta)"
   ]
  }
 ],
 "metadata": {
  "kernelspec": {
   "display_name": "topicos_env",
   "language": "python",
   "name": "python3"
  },
  "language_info": {
   "codemirror_mode": {
    "name": "ipython",
    "version": 3
   },
   "file_extension": ".py",
   "mimetype": "text/x-python",
   "name": "python",
   "nbconvert_exporter": "python",
   "pygments_lexer": "ipython3",
   "version": "3.10.17"
  }
 },
 "nbformat": 4,
 "nbformat_minor": 5
}
