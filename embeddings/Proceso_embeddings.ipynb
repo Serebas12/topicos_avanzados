{
 "cells": [
  {
   "cell_type": "markdown",
   "id": "f11f39d1",
   "metadata": {},
   "source": [
    "# Transformación de información"
   ]
  },
  {
   "cell_type": "code",
   "execution_count": 1,
   "id": "47eb4d9d",
   "metadata": {},
   "outputs": [],
   "source": [
    "#Importar librerías\n",
    "import os\n",
    "from langchain_google_genai import ChatGoogleGenerativeAI\n",
    "from langchain_core.messages import HumanMessage\n",
    "from PIL import Image\n",
    "import base64"
   ]
  },
  {
   "cell_type": "code",
   "execution_count": 2,
   "id": "50ebe957",
   "metadata": {},
   "outputs": [
    {
     "name": "stdout",
     "output_type": "stream",
     "text": [
      "Parámetros de conversión:\n",
      "- Archivo PDF: reglamento-de-estudiantes-universidad-javeriana.pdf\n",
      "- Carpeta de salida: imagenes/\n",
      "- Resolución (DPI): 300\n",
      "--------------------------------------------------\n",
      "Convirtiendo PDF a imágenes con DPI=300...\n",
      "Conversión completada. Se generaron 32 imágenes.\n",
      "\n",
      "Imágenes generadas:\n",
      "- Página 1: imagenes/pagina_1.jpg\n",
      "- Página 2: imagenes/pagina_2.jpg\n",
      "- Página 3: imagenes/pagina_3.jpg\n",
      "- Página 4: imagenes/pagina_4.jpg\n",
      "- Página 5: imagenes/pagina_5.jpg\n",
      "- Página 6: imagenes/pagina_6.jpg\n",
      "- Página 7: imagenes/pagina_7.jpg\n",
      "- Página 8: imagenes/pagina_8.jpg\n",
      "- Página 9: imagenes/pagina_9.jpg\n",
      "- Página 10: imagenes/pagina_10.jpg\n",
      "- Página 11: imagenes/pagina_11.jpg\n",
      "- Página 12: imagenes/pagina_12.jpg\n",
      "- Página 13: imagenes/pagina_13.jpg\n",
      "- Página 14: imagenes/pagina_14.jpg\n",
      "- Página 15: imagenes/pagina_15.jpg\n",
      "- Página 16: imagenes/pagina_16.jpg\n",
      "- Página 17: imagenes/pagina_17.jpg\n",
      "- Página 18: imagenes/pagina_18.jpg\n",
      "- Página 19: imagenes/pagina_19.jpg\n",
      "- Página 20: imagenes/pagina_20.jpg\n",
      "- Página 21: imagenes/pagina_21.jpg\n",
      "- Página 22: imagenes/pagina_22.jpg\n",
      "- Página 23: imagenes/pagina_23.jpg\n",
      "- Página 24: imagenes/pagina_24.jpg\n",
      "- Página 25: imagenes/pagina_25.jpg\n",
      "- Página 26: imagenes/pagina_26.jpg\n",
      "- Página 27: imagenes/pagina_27.jpg\n",
      "- Página 28: imagenes/pagina_28.jpg\n",
      "- Página 29: imagenes/pagina_29.jpg\n",
      "- Página 30: imagenes/pagina_30.jpg\n",
      "- Página 31: imagenes/pagina_31.jpg\n",
      "- Página 32: imagenes/pagina_32.jpg\n"
     ]
    }
   ],
   "source": [
    "# Parámetros de configuración - Modifica estos valores según tus necesidades\n",
    "PDF_INPUT_PATH = \"reglamento-de-estudiantes-universidad-javeriana.pdf\"  # Ruta completa al archivo PDF\n",
    "OUTPUT_FOLDER = \"imagenes/\"  # Carpeta donde se guardarán las imágenes\n",
    "DPI = 300  # Resolución de las imágenes (puntos por pulgada)\n",
    "\n",
    "# Importar las bibliotecas necesarias\n",
    "import os\n",
    "import matplotlib.pyplot as plt\n",
    "from pdf2image import convert_from_path\n",
    "from IPython.display import display, Image\n",
    "\n",
    "def convert_pdf_to_images(pdf_path, output_folder, dpi=300):\n",
    "    \"\"\"\n",
    "    Convierte un archivo PDF en imágenes JPG.\n",
    "    \n",
    "    Args:\n",
    "        pdf_path (str): Ruta al archivo PDF.\n",
    "        output_folder (str): Carpeta donde se guardarán las imágenes.\n",
    "        dpi (int): Resolución de las imágenes (puntos por pulgada).\n",
    "    \n",
    "    Returns:\n",
    "        list: Lista de rutas a las imágenes generadas.\n",
    "    \"\"\"\n",
    "    # Verificar que el archivo PDF existe\n",
    "    if not os.path.exists(pdf_path):\n",
    "        raise FileNotFoundError(f\"El archivo PDF no existe en la ruta: {pdf_path}\")\n",
    "    \n",
    "    # Crear la carpeta de salida si no existe\n",
    "    if not os.path.exists(output_folder):\n",
    "        os.makedirs(output_folder)\n",
    "        print(f\"Se ha creado la carpeta de salida: {output_folder}\")\n",
    "    \n",
    "    # Convertir PDF a imágenes\n",
    "    print(f\"Convirtiendo PDF a imágenes con DPI={dpi}...\")\n",
    "    images = convert_from_path(pdf_path, dpi=dpi)\n",
    "    \n",
    "    # Guardar cada página como una imagen JPG\n",
    "    image_paths = []\n",
    "    for i, image in enumerate(images):\n",
    "        image_path = os.path.join(output_folder, f'pagina_{i+1}.jpg')\n",
    "        image.save(image_path, 'JPEG')\n",
    "        image_paths.append(image_path)\n",
    "    \n",
    "    print(f\"Conversión completada. Se generaron {len(image_paths)} imágenes.\")\n",
    "    return image_paths\n",
    "\n",
    "def main():\n",
    "    \"\"\"Función principal que ejecuta la conversión y muestra resultados.\"\"\"\n",
    "    try:\n",
    "        # Mostrar información de los parámetros\n",
    "        print(\"Parámetros de conversión:\")\n",
    "        print(f\"- Archivo PDF: {PDF_INPUT_PATH}\")\n",
    "        print(f\"- Carpeta de salida: {OUTPUT_FOLDER}\")\n",
    "        print(f\"- Resolución (DPI): {DPI}\")\n",
    "        print(\"-\" * 50)\n",
    "        \n",
    "        # Realizar la conversión\n",
    "        image_paths = convert_pdf_to_images(PDF_INPUT_PATH, OUTPUT_FOLDER, DPI)\n",
    "        \n",
    "        # Mostrar la primera imagen como ejemplo\n",
    "        if image_paths:\n",
    "  \n",
    "            \n",
    "            # Mostrar información de todas las imágenes generadas\n",
    "            print(\"\\nImágenes generadas:\")\n",
    "            for i, path in enumerate(image_paths):\n",
    "                print(f\"- Página {i+1}: {path}\")\n",
    "        \n",
    "    except Exception as e:\n",
    "        print(f\"Error durante la conversión: {str(e)}\")\n",
    "\n",
    "# Ejecutar la función principal\n",
    "main()"
   ]
  },
  {
   "cell_type": "code",
   "execution_count": 4,
   "id": "9eae5ef3",
   "metadata": {},
   "outputs": [
    {
     "name": "stderr",
     "output_type": "stream",
     "text": [
      "Procesando imágenes:   3%|▎         | 1/32 [00:07<04:01,  7.78s/it]"
     ]
    },
    {
     "name": "stdout",
     "output_type": "stream",
     "text": [
      "Procesado: pagina_22.jpg\n"
     ]
    },
    {
     "name": "stderr",
     "output_type": "stream",
     "text": [
      "Procesando imágenes:   6%|▋         | 2/32 [00:16<04:12,  8.41s/it]"
     ]
    },
    {
     "name": "stdout",
     "output_type": "stream",
     "text": [
      "Procesado: pagina_8.jpg\n"
     ]
    },
    {
     "name": "stderr",
     "output_type": "stream",
     "text": [
      "Procesando imágenes:   9%|▉         | 3/32 [00:27<04:30,  9.34s/it]"
     ]
    },
    {
     "name": "stdout",
     "output_type": "stream",
     "text": [
      "Procesado: pagina_11.jpg\n"
     ]
    },
    {
     "name": "stderr",
     "output_type": "stream",
     "text": [
      "Procesando imágenes:  12%|█▎        | 4/32 [00:37<04:37,  9.90s/it]"
     ]
    },
    {
     "name": "stdout",
     "output_type": "stream",
     "text": [
      "Procesado: pagina_14.jpg\n",
      "Procesado: pagina_29.jpg\n",
      "Límite de 5 llamadas alcanzado. Esperando 60 segundos...\n"
     ]
    },
    {
     "name": "stderr",
     "output_type": "stream",
     "text": [
      "Procesando imágenes:  19%|█▉        | 6/32 [02:40<14:49, 34.20s/it]"
     ]
    },
    {
     "name": "stdout",
     "output_type": "stream",
     "text": [
      "Procesado: pagina_23.jpg\n"
     ]
    },
    {
     "name": "stderr",
     "output_type": "stream",
     "text": [
      "Procesando imágenes:  22%|██▏       | 7/32 [02:48<10:32, 25.32s/it]"
     ]
    },
    {
     "name": "stdout",
     "output_type": "stream",
     "text": [
      "Procesado: pagina_21.jpg\n"
     ]
    },
    {
     "name": "stderr",
     "output_type": "stream",
     "text": [
      "Procesando imágenes:  25%|██▌       | 8/32 [02:58<08:14, 20.60s/it]"
     ]
    },
    {
     "name": "stdout",
     "output_type": "stream",
     "text": [
      "Procesado: pagina_20.jpg\n"
     ]
    },
    {
     "name": "stderr",
     "output_type": "stream",
     "text": [
      "Procesando imágenes:  28%|██▊       | 9/32 [03:04<06:05, 15.90s/it]"
     ]
    },
    {
     "name": "stdout",
     "output_type": "stream",
     "text": [
      "Procesado: pagina_4.jpg\n",
      "Procesado: pagina_1.jpg\n",
      "Límite de 5 llamadas alcanzado. Esperando 60 segundos...\n"
     ]
    },
    {
     "name": "stderr",
     "output_type": "stream",
     "text": [
      "Procesando imágenes:  34%|███▍      | 11/32 [04:18<08:29, 24.28s/it]"
     ]
    },
    {
     "name": "stdout",
     "output_type": "stream",
     "text": [
      "Procesado: pagina_28.jpg\n"
     ]
    },
    {
     "name": "stderr",
     "output_type": "stream",
     "text": [
      "Procesando imágenes:  38%|███▊      | 12/32 [04:25<06:20, 19.01s/it]"
     ]
    },
    {
     "name": "stdout",
     "output_type": "stream",
     "text": [
      "Procesado: pagina_31.jpg\n"
     ]
    },
    {
     "name": "stderr",
     "output_type": "stream",
     "text": [
      "Procesando imágenes:  41%|████      | 13/32 [04:35<05:11, 16.40s/it]"
     ]
    },
    {
     "name": "stdout",
     "output_type": "stream",
     "text": [
      "Procesado: pagina_12.jpg\n"
     ]
    },
    {
     "name": "stderr",
     "output_type": "stream",
     "text": [
      "Procesando imágenes:  44%|████▍     | 14/32 [04:40<03:53, 12.95s/it]"
     ]
    },
    {
     "name": "stdout",
     "output_type": "stream",
     "text": [
      "Procesado: pagina_5.jpg\n",
      "Procesado: pagina_16.jpg\n",
      "Límite de 5 llamadas alcanzado. Esperando 60 segundos...\n"
     ]
    },
    {
     "name": "stderr",
     "output_type": "stream",
     "text": [
      "Procesando imágenes:  50%|█████     | 16/32 [05:55<06:02, 22.66s/it]"
     ]
    },
    {
     "name": "stdout",
     "output_type": "stream",
     "text": [
      "Procesado: pagina_9.jpg\n"
     ]
    },
    {
     "name": "stderr",
     "output_type": "stream",
     "text": [
      "Procesando imágenes:  53%|█████▎    | 17/32 [06:00<04:19, 17.30s/it]"
     ]
    },
    {
     "name": "stdout",
     "output_type": "stream",
     "text": [
      "Procesado: pagina_3.jpg\n"
     ]
    },
    {
     "name": "stderr",
     "output_type": "stream",
     "text": [
      "Procesando imágenes:  56%|█████▋    | 18/32 [06:07<03:19, 14.25s/it]"
     ]
    },
    {
     "name": "stdout",
     "output_type": "stream",
     "text": [
      "Procesado: pagina_24.jpg\n"
     ]
    },
    {
     "name": "stderr",
     "output_type": "stream",
     "text": [
      "Procesando imágenes:  59%|█████▉    | 19/32 [06:14<02:35, 11.99s/it]"
     ]
    },
    {
     "name": "stdout",
     "output_type": "stream",
     "text": [
      "Procesado: pagina_10.jpg\n",
      "Procesado: pagina_27.jpg\n",
      "Límite de 5 llamadas alcanzado. Esperando 60 segundos...\n"
     ]
    },
    {
     "name": "stderr",
     "output_type": "stream",
     "text": [
      "Procesando imágenes:  66%|██████▌   | 21/32 [07:29<04:05, 22.32s/it]"
     ]
    },
    {
     "name": "stdout",
     "output_type": "stream",
     "text": [
      "Procesado: pagina_26.jpg\n"
     ]
    },
    {
     "name": "stderr",
     "output_type": "stream",
     "text": [
      "Procesando imágenes:  69%|██████▉   | 22/32 [07:33<02:48, 16.86s/it]"
     ]
    },
    {
     "name": "stdout",
     "output_type": "stream",
     "text": [
      "Procesado: pagina_32.jpg\n"
     ]
    },
    {
     "name": "stderr",
     "output_type": "stream",
     "text": [
      "Procesando imágenes:  72%|███████▏  | 23/32 [07:40<02:03, 13.67s/it]"
     ]
    },
    {
     "name": "stdout",
     "output_type": "stream",
     "text": [
      "Procesado: pagina_7.jpg\n"
     ]
    },
    {
     "name": "stderr",
     "output_type": "stream",
     "text": [
      "Procesando imágenes:  75%|███████▌  | 24/32 [07:50<01:42, 12.77s/it]"
     ]
    },
    {
     "name": "stdout",
     "output_type": "stream",
     "text": [
      "Procesado: pagina_2.jpg\n",
      "Procesado: pagina_25.jpg\n",
      "Límite de 5 llamadas alcanzado. Esperando 60 segundos...\n"
     ]
    },
    {
     "name": "stderr",
     "output_type": "stream",
     "text": [
      "Procesando imágenes:  81%|████████▏ | 26/32 [09:10<02:23, 23.89s/it]"
     ]
    },
    {
     "name": "stdout",
     "output_type": "stream",
     "text": [
      "Procesado: pagina_13.jpg\n"
     ]
    },
    {
     "name": "stderr",
     "output_type": "stream",
     "text": [
      "Procesando imágenes:  84%|████████▍ | 27/32 [09:18<01:35, 19.13s/it]"
     ]
    },
    {
     "name": "stdout",
     "output_type": "stream",
     "text": [
      "Procesado: pagina_18.jpg\n"
     ]
    },
    {
     "name": "stderr",
     "output_type": "stream",
     "text": [
      "Procesando imágenes:  88%|████████▊ | 28/32 [09:35<01:14, 18.55s/it]"
     ]
    },
    {
     "name": "stdout",
     "output_type": "stream",
     "text": [
      "Procesado: pagina_30.jpg\n"
     ]
    },
    {
     "name": "stderr",
     "output_type": "stream",
     "text": [
      "Procesando imágenes:  91%|█████████ | 29/32 [09:43<00:46, 15.46s/it]"
     ]
    },
    {
     "name": "stdout",
     "output_type": "stream",
     "text": [
      "Procesado: pagina_19.jpg\n",
      "Procesado: pagina_6.jpg\n",
      "Límite de 5 llamadas alcanzado. Esperando 60 segundos...\n"
     ]
    },
    {
     "name": "stderr",
     "output_type": "stream",
     "text": [
      "Procesando imágenes:  97%|█████████▋| 31/32 [11:00<00:24, 24.43s/it]"
     ]
    },
    {
     "name": "stdout",
     "output_type": "stream",
     "text": [
      "Procesado: pagina_15.jpg\n"
     ]
    },
    {
     "name": "stderr",
     "output_type": "stream",
     "text": [
      "Procesando imágenes: 100%|██████████| 32/32 [11:08<00:00, 20.90s/it]"
     ]
    },
    {
     "name": "stdout",
     "output_type": "stream",
     "text": [
      "Procesado: pagina_17.jpg\n"
     ]
    },
    {
     "name": "stderr",
     "output_type": "stream",
     "text": [
      "\n"
     ]
    }
   ],
   "source": [
    "from langchain_google_vertexai import ChatVertexAI\n",
    "from langchain_core.messages import HumanMessage\n",
    "import base64\n",
    "import os\n",
    "import pandas as pd\n",
    "from tqdm import tqdm  # Para mostrar una barra de progreso\n",
    "import time \n",
    "\n",
    "def process_images_in_directory(directory_path, prompt):\n",
    "    # Inicializar el modelo con Vertex AI\n",
    "    model = ChatVertexAI(\n",
    "        model_name=\"gemini-2.5-flash-preview-04-17\",\n",
    "        project=\"mestria-puj-s2\",\n",
    "        location=\"us-central1\"\n",
    "    )\n",
    "    \n",
    "    # Función para codificar la imagen\n",
    "    def get_image_data(image_path):\n",
    "        with open(image_path, \"rb\") as image_file:\n",
    "            return base64.b64encode(image_file.read()).decode('utf-8')\n",
    "    \n",
    "    # Lista para almacenar los resultados\n",
    "    results = []\n",
    "    \n",
    "    # Obtener la lista de archivos de imagen en el directorio\n",
    "    image_files = [f for f in os.listdir(directory_path) \n",
    "                  if f.lower().endswith(('.png', '.jpg', '.jpeg', '.gif', '.bmp'))]\n",
    "    \n",
    "    # Procesar cada imagen con una barra de progreso\n",
    "    llamadas = 0\n",
    "\n",
    "    for image_file in tqdm(image_files, desc=\"Procesando imágenes\"):\n",
    "        image_path = os.path.join(directory_path, image_file)\n",
    "        \n",
    "        try:\n",
    "            image_message = HumanMessage(\n",
    "                content=[\n",
    "                    { \"type\": \"text\", \"text\": prompt },\n",
    "                    {\n",
    "                        \"type\": \"image_url\",\n",
    "                        \"image_url\": {\n",
    "                            \"url\": f\"data:image/jpeg;base64,{get_image_data(image_path)}\"\n",
    "                        }\n",
    "                    }\n",
    "                ]\n",
    "            )\n",
    "            \n",
    "            response = model.invoke([image_message])\n",
    "            \n",
    "            results.append({\n",
    "                \"Nombre_archivo\": image_file,\n",
    "                \"Resultado\": response.content\n",
    "            })\n",
    "            print(f\"Procesado: {image_file}\")\n",
    "            \n",
    "            llamadas += 1\n",
    "            # Cada 5 llamadas, esperar 60 segundos\n",
    "            if llamadas % 5 == 0 and llamadas < len(image_files):\n",
    "                print(\"Límite de 5 llamadas alcanzado. Esperando 60 segundos...\")\n",
    "                time.sleep(60)\n",
    "            \n",
    "        except Exception as e:\n",
    "            print(f\"Error al procesar {image_file}: {e}\")\n",
    "            results.append({\n",
    "                \"Nombre_archivo\": image_file,\n",
    "                \"Resultado\": f\"ERROR: {e}\"\n",
    "            })\n",
    "    \n",
    "    df_results = pd.DataFrame(results)\n",
    "    return df_results\n",
    "\n",
    "# Prompt para el análisis\n",
    "prompt=\"\"\"\n",
    "    Contexto:\n",
    "    Eres un modelo de IA multimodal especializado en extraer texto de imágenes con máxima precisión. Recibirás como entrada la imagen de una página de un manual de estudiante. Esta información se utilizará para construir la base de conocimiento de un agente, por lo que no debes inventar ni parafrasear nada: solo extrae lo que ves.\n",
    "\n",
    "    Instrucciones:\n",
    "    1. Analiza la imagen y extrae TODO el contenido textual tal como aparece: títulos, subtítulos, párrafos, listas, tablas, pies de página, encabezados de columna, numeración, viñetas y cualquier otro texto.\n",
    "    2. Conserva la ortografía, puntuación, saltos de línea, espacios y formato original (mayúsculas, negritas, cursivas, viñetas, numeración).\n",
    "    3. No añadas comentarios, etiquetas, secciones ni explicaciones adicionales.\n",
    "    4. No transformes ni reorganices el contenido: reproduce exactamente el orden y disposición del texto visible en la página.\n",
    "    5. Si se presentan tablas, extrae cada tabla conservando filas y columnas, incluidos encabezados y líneas divisorias, usando un formato de texto con separadores simples (por ejemplo, “|”) y manteniendo los guiones o líneas de separación tal como aparecen.\n",
    "    6. Mantén todas las enumeraciones y viñetas exactamente igual: conserva numeración, caracteres de viñeta y el espaciado original.\n",
    "\n",
    "    Formato de salida:\n",
    "    Devuelve un único string que contenga el texto íntegro extraído, respetando saltos de línea, separadores de tabla y el formato original, sin envoltorios ni secciones adicionales.\n",
    "    \"\"\"\n",
    "\n",
    "# Ejecutar el procesamiento (puedes pasar la ruta como parámetro)\n",
    "directory_path = \"imagenes\"  # Cambia esto a la ruta de tu directorio de imágenes\n",
    "results_df = process_images_in_directory(directory_path, prompt)"
   ]
  },
  {
   "cell_type": "markdown",
   "id": "94a66834",
   "metadata": {},
   "source": [
    "# Generación de embedding"
   ]
  },
  {
   "cell_type": "code",
   "execution_count": 5,
   "id": "ed31e320",
   "metadata": {},
   "outputs": [],
   "source": [
    "# se inicializa vertex - toma credenciales default \n",
    "\n",
    "from google.cloud import aiplatform\n",
    "\n",
    "# Reemplaza con tu proyecto y ubicación si es necesario\n",
    "aiplatform.init(\n",
    "    project=\"mestria-puj-s2\",       \n",
    "    location=\"us-central1\"             \n",
    ")"
   ]
  },
  {
   "cell_type": "code",
   "execution_count": 6,
   "id": "aae3f4f4",
   "metadata": {},
   "outputs": [],
   "source": [
    "# carga del modelo de embeddings \n",
    "\n",
    "from vertexai.language_models import TextEmbeddingModel\n",
    "\n",
    "# Cargar el modelo\n",
    "model = TextEmbeddingModel.from_pretrained(\"text-multilingual-embedding-002\")"
   ]
  },
  {
   "cell_type": "code",
   "execution_count": 7,
   "id": "4308e97b",
   "metadata": {},
   "outputs": [
    {
     "name": "stderr",
     "output_type": "stream",
     "text": [
      "Generando embeddings:  12%|█▎        | 4/32 [00:00<00:04,  5.75it/s]"
     ]
    },
    {
     "name": "stdout",
     "output_type": "stream",
     "text": [
      "Límite de 5 solicitudes alcanzado. Esperando 60 segundos...\n"
     ]
    },
    {
     "name": "stderr",
     "output_type": "stream",
     "text": [
      "Generando embeddings:  28%|██▊       | 9/32 [01:01<01:47,  4.65s/it]"
     ]
    },
    {
     "name": "stdout",
     "output_type": "stream",
     "text": [
      "Límite de 5 solicitudes alcanzado. Esperando 60 segundos...\n"
     ]
    },
    {
     "name": "stderr",
     "output_type": "stream",
     "text": [
      "Generando embeddings:  44%|████▍     | 14/32 [02:02<01:34,  5.23s/it]"
     ]
    },
    {
     "name": "stdout",
     "output_type": "stream",
     "text": [
      "Límite de 5 solicitudes alcanzado. Esperando 60 segundos...\n"
     ]
    },
    {
     "name": "stderr",
     "output_type": "stream",
     "text": [
      "Generando embeddings:  59%|█████▉    | 19/32 [03:03<01:09,  5.34s/it]"
     ]
    },
    {
     "name": "stdout",
     "output_type": "stream",
     "text": [
      "Límite de 5 solicitudes alcanzado. Esperando 60 segundos...\n"
     ]
    },
    {
     "name": "stderr",
     "output_type": "stream",
     "text": [
      "Generando embeddings:  75%|███████▌  | 24/32 [04:03<00:42,  5.34s/it]"
     ]
    },
    {
     "name": "stdout",
     "output_type": "stream",
     "text": [
      "Límite de 5 solicitudes alcanzado. Esperando 60 segundos...\n"
     ]
    },
    {
     "name": "stderr",
     "output_type": "stream",
     "text": [
      "Generando embeddings:  91%|█████████ | 29/32 [05:04<00:16,  5.36s/it]"
     ]
    },
    {
     "name": "stdout",
     "output_type": "stream",
     "text": [
      "Límite de 5 solicitudes alcanzado. Esperando 60 segundos...\n"
     ]
    },
    {
     "name": "stderr",
     "output_type": "stream",
     "text": [
      "Generando embeddings: 100%|██████████| 32/32 [06:05<00:00, 11.42s/it]\n"
     ]
    }
   ],
   "source": [
    "import time\n",
    "from tqdm import tqdm\n",
    "\n",
    "embeddings = []\n",
    "llamadas = 0\n",
    "total_textos = len(results_df)\n",
    "\n",
    "for text in tqdm(results_df['Resultado'], desc=\"Generando embeddings\"):\n",
    "    # Ejecutar llamada al servicio\n",
    "    response = model.get_embeddings([text])\n",
    "    embedding = response[0].values\n",
    "    embeddings.append(embedding)\n",
    "    \n",
    "    llamadas += 1\n",
    "    # Cada 5 llamadas, esperar 60 segundos (si aún hay más textos)\n",
    "    if llamadas % 5 == 0 and llamadas < total_textos:\n",
    "        print(\"Límite de 5 solicitudes alcanzado. Esperando 60 segundos...\")\n",
    "        time.sleep(60)\n",
    "\n",
    "# Añadir columna al DataFrame\n",
    "results_df[\"embedding\"] = embeddings"
   ]
  },
  {
   "cell_type": "code",
   "execution_count": 8,
   "id": "4b2e1d71",
   "metadata": {},
   "outputs": [],
   "source": [
    "import json\n",
    "\n",
    "with open(\"embedding_manual.json\", \"w\", encoding=\"utf-8\") as f:\n",
    "    for _, row in results_df.iterrows():\n",
    "        # Línea de acción\n",
    "        f.write(json.dumps({ \"index\": {} }) + \"\\n\")\n",
    "\n",
    "        # Documento en formato plano (sin _index ni _source)\n",
    "        doc = {\n",
    "            \"embedding\": row[\"embedding\"],\n",
    "            \"text\": row[\"Resultado\"],\n",
    "            \"metadata\": {\n",
    "                \"filename\": row[\"Nombre_archivo\"]\n",
    "            }\n",
    "        }\n",
    "        f.write(json.dumps(doc) + \"\\n\")"
   ]
  }
 ],
 "metadata": {
  "kernelspec": {
   "display_name": "topicos_env",
   "language": "python",
   "name": "python3"
  },
  "language_info": {
   "codemirror_mode": {
    "name": "ipython",
    "version": 3
   },
   "file_extension": ".py",
   "mimetype": "text/x-python",
   "name": "python",
   "nbconvert_exporter": "python",
   "pygments_lexer": "ipython3",
   "version": "3.10.17"
  }
 },
 "nbformat": 4,
 "nbformat_minor": 5
}
